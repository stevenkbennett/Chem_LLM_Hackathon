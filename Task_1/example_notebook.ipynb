{
 "cells": [
  {
   "cell_type": "markdown",
   "metadata": {},
   "source": [
    "# Notebook Information\n",
    "----------------------\n",
    "**Created By:**   Steven Bennett, Friedrich Hastedt\n",
    "\n",
    "This is an example notebook for task 1. The goal of task 1 is to develop a model that is able to perform single-step retrosynthesis prediction. Specifically, the goal of the model is given a target molecule, the model should be able to predict a single reaction step that will produce the target molecule from one or more reagents.\n",
    "The model will be evaluated in 3 different ways:\n",
    "\n",
    "1. Top-10 score: The percentage the reactants from the test set appear in the top-10 predictions proposed by the model.\n",
    "2. Duplicates: The percentage of duplicated reactants in the top-10 predictions proposed by the model. (The actual score is 1 - the percentage of duplicated reactants to maximise the score.)\n",
    "3. Invalidity: The percentage of invalid predictions in the top-10 predictions proposed by the model.\n",
    "(The actual score is 1 - the percentage of invalid predictions to maximise the score.)\n",
    "\n",
    "From these evaluation metrics, we will provide a final score for each model, using a weighted average of the different metrics. The final score will be used to rank each team on the GitHub leaderboard.\n",
    "\n",
    "\n",
    "## Notebook Contents\n",
    "----------------------\n",
    "\n",
    "In this notebook, we will show an example of using a pre-trained model as a starting point to generate the output file for submission to the competition. The notebook will cover the following steps:\n",
    "\n",
    "1. Loading the pre-trained model, and performing data pre-processing steps\n",
    "2. Generating predictions on the held-out test set and saving the output file\n",
    "\n",
    "You are free to experiment with as many different models as you like, and this notebook only serves as an example of how to get started. You are free to use any other models that you like, including using ChatGPT to make prediction, and you are free to use any other data that you like. \n",
    "The only requirement is that the test set data is used to generate the output file for the submission."
   ]
  },
  {
   "cell_type": "markdown",
   "metadata": {},
   "source": [
    "Before executing the notebook, please ensure that you have installed the correct dependencies. It is highly recommended to create a new Anaconda environment specifically for this task. The dependencies can be installed using the following command:\n",
    "\n",
    "```conda env create -f conda_env.yml```\n",
    "\n",
    "The kernel for the notebook can then be instaleld using the following command:\n",
    "    \n",
    "```python -m ipykernel install --user --name chem_llm_hackathon --display-name \"chem_llm_hackathon\"```\n",
    "\n",
    "This will ensure the kernel is locatable by the Jupyter notebook server."
   ]
  },
  {
   "cell_type": "code",
   "execution_count": null,
   "metadata": {},
   "outputs": [],
   "source": [
    "# Execute these functions to download the model and data\n",
    "%wget -O 'USPTO50_model_step_500000.pt' 'https://www.dropbox.com/s/fm0cyzxwmxqy7c5/USPTO50_model_step_500000.pt?dl=0'\n",
    "%wget -O 'USPTO50USPTO50.train.0.pt' 'https://www.dropbox.com/scl/fi/ssalt02e4ae0uggnqq5bn/USPTO50USPTO50.train.0.pt?rlkey=0t151ep0b2b59gng61dpgkxt9&dl=0'"
   ]
  },
  {
   "cell_type": "code",
   "execution_count": 2,
   "metadata": {},
   "outputs": [],
   "source": [
    "from example_model import Model\n",
    "from rdkit import Chem\n",
    "from rdkit.Chem import Draw\n",
    "from rdkit.Chem import rdChemReactions as Reactions\n",
    "import json"
   ]
  },
  {
   "cell_type": "markdown",
   "metadata": {},
   "source": [
    "We have provided a checkpoint file, from the MolecularTransformer paper (https://pubs.acs.org/doi/10.1021/acscentsci.9b00576), which has been trained for half-million epochs. For using this model, we have included some initial code for loading the model and generating predictions. You are free to use this model as initial stating point for an initial set of predictions."
   ]
  },
  {
   "cell_type": "markdown",
   "metadata": {},
   "source": [
    "To perform a prediction, call the *.predict()* method on the model. The arguments to the method are as follows: \n",
    "1. **source_path**: <br> \n",
    "Do not modify this, this is the directory to the test molecules. \n",
    "2. **num_predictions / beam_size**: <br> \n",
    "beam_size is used by the model to generate more than 1 prediction whereas num_predictions handles the number of predictions returned to the user. Please ensure that those are equal to one another. The scoring will be performed on the first 10 predictions, however feel free to return more than 10 predictions and re-rank them to improve your results.\n",
    "3. **batch_size**: <br>\n",
    "The number of examples fed to the model during one gradient update step."
   ]
  },
  {
   "cell_type": "code",
   "execution_count": 6,
   "metadata": {},
   "outputs": [],
   "source": [
    "# Load the model\n",
    "model = Model(\n",
    "    model_path=\"Models/USPTO50_model_step_500000.pt\", \n",
    "    gpu=-1 # Set GPU index to the number of the GPU you want to use. -1 for CPU.\n",
    ")"
   ]
  },
  {
   "cell_type": "markdown",
   "metadata": {},
   "source": [
    "Lets evaluate the performance of this model on the validation set using the three evaluation metrics\n",
    "\n"
   ]
  },
  {
   "cell_type": "code",
   "execution_count": null,
   "metadata": {},
   "outputs": [
    {
     "name": "stderr",
     "output_type": "stream",
     "text": [
      "/home/sbennett/miniconda3/envs/Datathon_LLM/lib/python3.6/site-packages/torchtext/data/field.py:359: UserWarning: To copy construct from a tensor, it is recommended to use sourceTensor.clone().detach() or sourceTensor.clone().detach().requires_grad_(True), rather than torch.tensor(sourceTensor).\n",
      "  var = torch.tensor(arr, dtype=self.dtype, device=device)\n"
     ]
    },
    {
     "name": "stdout",
     "output_type": "stream",
     "text": [
      "PRED AVG SCORE: -0.0003, PRED PPL: 1.0003\n"
     ]
    }
   ],
   "source": [
    "# First, perform predictions using the small validation set\n",
    "\n",
    "results = model.predict(\n",
    "    source_path='Data/val_input_small.txt',\n",
    "    num_predictions=10,\n",
    "    batch_size=10,\n",
    "    beam_size=10\n",
    ")\n",
    "\n",
    "# Create some bad results to test the evaluator\n",
    "\n",
    "# Lots of invalid SMILES\n",
    "\n",
    "results_invalid = {\n",
    "    r: [i[:-2] for i in k] for r, k in results.items() \n",
    "}\n",
    "\n",
    "# Lots of duplicates\n",
    "\n",
    "results_duplicates = {\n",
    "    r: [k[0] for i in range(10)] for r, k in results.items()\n",
    "}"
   ]
  },
  {
   "cell_type": "code",
   "execution_count": 29,
   "metadata": {},
   "outputs": [
    {
     "name": "stdout",
     "output_type": "stream",
     "text": [
      "\n",
      "------------------\n",
      "\n",
      "Duplicate Result\n",
      "Duplicates 0.1\n",
      "InvalidSMILES 1.0\n",
      "TopK 0.9\n",
      "\n",
      "------------------\n",
      "\n",
      "Invalid Results\n",
      "Duplicates 0.64\n",
      "InvalidSMILES 0.15\n",
      "TopK 0.0\n",
      "\n",
      "------------------\n",
      "\n",
      "Standard Results\n",
      "Duplicates 0.65\n",
      "InvalidSMILES 0.77\n",
      "TopK 0.9\n",
      "\n",
      "------------------\n",
      "\n"
     ]
    }
   ],
   "source": [
    "from eval import Duplicates, InvalidSMILES, TopK\n",
    "\n",
    "from rdkit import RDLogger\n",
    "# Silence RDKit warnings\n",
    "RDLogger.DisableLog('rdApp.*')\n",
    "\n",
    "evaluators = [Duplicates(), InvalidSMILES(), TopK(k=10, test_path='Data/val_output_small.txt')]\n",
    "\n",
    "res_names = [\"Duplicate Result\", \"Invalid Results\", \"Standard Results\"]\n",
    "# Evaluate the model\n",
    "print(\"\\n------------------\\n\")\n",
    "for i, res in enumerate([results_duplicates, results_invalid, results]):\n",
    "    print(res_names[i])\n",
    "    for evaluator in evaluators:\n",
    "        print(evaluator.__class__.__name__, round(evaluator(res), 2))\n",
    "    print(\"\\n------------------\\n\")"
   ]
  },
  {
   "cell_type": "markdown",
   "metadata": {},
   "source": [
    "Below, we have provided an example of performing the predictions on the test set"
   ]
  },
  {
   "cell_type": "code",
   "execution_count": 30,
   "metadata": {},
   "outputs": [
    {
     "name": "stderr",
     "output_type": "stream",
     "text": [
      "/home/sbennett/miniconda3/envs/Datathon_LLM/lib/python3.6/site-packages/torchtext/data/field.py:359: UserWarning: To copy construct from a tensor, it is recommended to use sourceTensor.clone().detach() or sourceTensor.clone().detach().requires_grad_(True), rather than torch.tensor(sourceTensor).\n",
      "  var = torch.tensor(arr, dtype=self.dtype, device=device)\n"
     ]
    },
    {
     "name": "stdout",
     "output_type": "stream",
     "text": [
      "PRED AVG SCORE: -0.0009, PRED PPL: 1.0009\n"
     ]
    }
   ],
   "source": [
    "# Perform predictions on the test set using a checkpointed model\n",
    "# Some pararameters to be changed could be the beam size, which specifies the number of molecules that are decoded form the model.\n",
    "# This will load the test input file and make 250 prediction using the test file. \n",
    "results = model.predict(\n",
    "    source_path='Data/test_input.txt',\n",
    "    num_predictions=10,\n",
    "    batch_size=1,\n",
    "    beam_size=10\n",
    ")\n",
    "\n",
    "# Extracitng the SMILES strings of all the targets - These are the targets to have the model predict the reactants of\n",
    "with open(\"Data/test_input.txt\", \"r\") as f:\n",
    "    targets = f.read().replace(\" \", \"\").split(\"\\n\")"
   ]
  },
  {
   "cell_type": "markdown",
   "metadata": {},
   "source": [
    "The results should be a dictionary of the form:\n",
    "    ```{\n",
    "        product_smiles: [reactant_smiles_1_prediction, reactant_smiles_2_prediction, ...]\n",
    "    }\n",
    "    ```\n",
    "For each product there should be 10 different predictions in order to calculate the individual metrics, and the file should be saved as a JSON file with the name ```task_1_predictions.json```.\n",
    "For submission, the target molecules are listed in the `test_input` folder.\n",
    "The submission file can be created and saved using the code below:\n"
   ]
  },
  {
   "cell_type": "code",
   "execution_count": 18,
   "metadata": {},
   "outputs": [
    {
     "name": "stdout",
     "output_type": "stream",
     "text": [
      "The number of test set molecules is: 250\n",
      "The number of predictions per molecule is: 10\n"
     ]
    }
   ],
   "source": [
    "print(\"The number of test set molecules is:\", len(results.keys())) # Ensure this is 250\n",
    "print(\"The number of predictions per molecule is:\", len(results[list(results.keys())[0]])) # Ensure this is 10\n",
    "with open(\"../task_1_predictions.json\", 'w') as f:\n",
    "    json.dump(results, f)"
   ]
  },
  {
   "cell_type": "markdown",
   "metadata": {},
   "source": [
    "Visualising the reactants predicted by the model can be done using the code below"
   ]
  },
  {
   "cell_type": "code",
   "execution_count": 7,
   "metadata": {},
   "outputs": [
    {
     "name": "stderr",
     "output_type": "stream",
     "text": [
      "RDKit ERROR: [16:31:56] SMILES Parse Error: syntax error while parsing: COC(=O)N[C@H](C(=O)N1[C@@H]2CC[C@@H](C2)[C@H]1c1nc2ccc(.\n",
      "RDKit ERROR: [16:31:56] SMILES Parse Error: Failed parsing SMILES 'COC(=O)N[C@H](C(=O)N1[C@@H]2CC[C@@H](C2)[C@H]1c1nc2ccc(.' for input: 'COC(=O)N[C@H](C(=O)N1[C@@H]2CC[C@@H](C2)[C@H]1c1nc2ccc(.'\n",
      "RDKit ERROR: [16:31:56] SMILES Parse Error: syntax error while parsing: COC(COC(c1ccccc1)(c1ccccc1)c1ccccc1.\n",
      "RDKit ERROR: [16:31:56] SMILES Parse Error: Failed parsing SMILES 'COC(COC(c1ccccc1)(c1ccccc1)c1ccccc1.' for input: 'COC(COC(c1ccccc1)(c1ccccc1)c1ccccc1.'\n",
      "RDKit ERROR: [16:31:56] SMILES Parse Error: syntax error while parsing: CC1(C)OB(C2=CCC(O)(C(=O.\n",
      "RDKit ERROR: [16:31:56] SMILES Parse Error: Failed parsing SMILES 'CC1(C)OB(C2=CCC(O)(C(=O.' for input: 'CC1(C)OB(C2=CCC(O)(C(=O.'\n"
     ]
    }
   ],
   "source": [
    "# Draw the results\n",
    "for target, reaction in list(results.items()):\n",
    "    rxn_smiles = ''\n",
    "    for reactants in reaction:\n",
    "        for r in reactants.split('.'):\n",
    "            rxn_smiles += r\n",
    "            if r != reactants[-1]:\n",
    "                rxn_smiles += '.'\n",
    "        rxn_smiles += '>>' + target\n",
    "        try: \n",
    "            rxn = Reactions.ReactionFromSmarts(rxn_smiles, useSmiles=True)\n",
    "            break\n",
    "        except:\n",
    "            continue"
   ]
  },
  {
   "cell_type": "code",
   "execution_count": 8,
   "metadata": {},
   "outputs": [
    {
     "data": {
      "image/png": "[encoded data removed]",
      "text/plain": [
       "<PIL.PngImagePlugin.PngImageFile image mode=RGB size=800x200 at 0x7F12F56DB780>"
      ]
     },
     "execution_count": 8,
     "metadata": {},
     "output_type": "execute_result"
    }
   ],
   "source": [
    "# Print an example reaction that was predicted\n",
    "Draw.ReactionToImage(rxn)"
   ]
  },
  {
   "cell_type": "markdown",
   "metadata": {},
   "source": [
    "From this point, you have a model that is able to predict the reactants for a given target molecule reasonably well. There are multiple steps that can be taken from this point to improve the model. Some suggestions are:\n",
    "1. Training the model for more epochs (see below cell for an example). The training dataset for the model is provided.\n",
    "2. Using a different model architecture. The MolecularTransformer model is only one of many possible models that can be used for this task. You are free to use any model that you like, including ChatGPT or the OpenAI API interface.\n",
    "Some recommendations of things to try are: IBM RXN (https://rxn.res.ibm.com), ChemCrow (https://github.com/ur-whitelab/chemcrow-public - uses the OpenAI API credits)\n"
   ]
  },
  {
   "cell_type": "code",
   "execution_count": 11,
   "metadata": {},
   "outputs": [
    {
     "name": "stdout",
     "output_type": "stream",
     "text": [
      "['/home/sbennett/Postdoc/Hackathons/Chem_LLM_Hackathon/Task_1/Models/USPTO50_model_step_500000.pt']\n"
     ]
    },
    {
     "name": "stderr",
     "output_type": "stream",
     "text": [
      "[2023-07-18 16:47:38,777 INFO] Loading checkpoint from /home/sbennett/Postdoc/Hackathons/Chem_LLM_Hackathon/Task_1/Models/USPTO50_model_step_500000.pt\n",
      "[2023-07-18 16:47:39,016 INFO] Loading train dataset from /home/sbennett/Postdoc/Hackathons/Chem_LLM_Hackathon/Fred_Folder/Hackathon/example_notebooks/MolecularTransformer/data/USPTO50USPTO50.train.0.pt, number of examples: 40008\n",
      "[2023-07-18 16:47:39,017 INFO] Loading vocab from checkpoint at /home/sbennett/Postdoc/Hackathons/Chem_LLM_Hackathon/Task_1/Models/USPTO50_model_step_500000.pt.\n",
      "[2023-07-18 16:47:39,017 INFO]  * vocabulary size. source = 87; target = 87\n",
      "[2023-07-18 16:47:39,018 INFO] Building model...\n",
      "[2023-07-18 16:47:39,322 INFO] NMTModel(\n",
      "  (encoder): TransformerEncoder(\n",
      "    (embeddings): Embeddings(\n",
      "      (make_embedding): Sequential(\n",
      "        (emb_luts): Elementwise(\n",
      "          (0): Embedding(87, 256, padding_idx=1)\n",
      "        )\n",
      "        (pe): PositionalEncoding(\n",
      "          (dropout): Dropout(p=0.1, inplace=False)\n",
      "        )\n",
      "      )\n",
      "    )\n",
      "    (transformer): ModuleList(\n",
      "      (0): TransformerEncoderLayer(\n",
      "        (self_attn): MultiHeadedAttention(\n",
      "          (linear_keys): Linear(in_features=256, out_features=256, bias=True)\n",
      "          (linear_values): Linear(in_features=256, out_features=256, bias=True)\n",
      "          (linear_query): Linear(in_features=256, out_features=256, bias=True)\n",
      "          (softmax): Softmax(dim=-1)\n",
      "          (dropout): Dropout(p=0.1, inplace=False)\n",
      "          (final_linear): Linear(in_features=256, out_features=256, bias=True)\n",
      "        )\n",
      "        (feed_forward): PositionwiseFeedForward(\n",
      "          (w_1): Linear(in_features=256, out_features=2048, bias=True)\n",
      "          (w_2): Linear(in_features=2048, out_features=256, bias=True)\n",
      "          (layer_norm): LayerNorm()\n",
      "          (dropout_1): Dropout(p=0.1, inplace=False)\n",
      "          (relu): ReLU()\n",
      "          (dropout_2): Dropout(p=0.1, inplace=False)\n",
      "        )\n",
      "        (layer_norm): LayerNorm()\n",
      "        (dropout): Dropout(p=0.1, inplace=False)\n",
      "      )\n",
      "      (1): TransformerEncoderLayer(\n",
      "        (self_attn): MultiHeadedAttention(\n",
      "          (linear_keys): Linear(in_features=256, out_features=256, bias=True)\n",
      "          (linear_values): Linear(in_features=256, out_features=256, bias=True)\n",
      "          (linear_query): Linear(in_features=256, out_features=256, bias=True)\n",
      "          (softmax): Softmax(dim=-1)\n",
      "          (dropout): Dropout(p=0.1, inplace=False)\n",
      "          (final_linear): Linear(in_features=256, out_features=256, bias=True)\n",
      "        )\n",
      "        (feed_forward): PositionwiseFeedForward(\n",
      "          (w_1): Linear(in_features=256, out_features=2048, bias=True)\n",
      "          (w_2): Linear(in_features=2048, out_features=256, bias=True)\n",
      "          (layer_norm): LayerNorm()\n",
      "          (dropout_1): Dropout(p=0.1, inplace=False)\n",
      "          (relu): ReLU()\n",
      "          (dropout_2): Dropout(p=0.1, inplace=False)\n",
      "        )\n",
      "        (layer_norm): LayerNorm()\n",
      "        (dropout): Dropout(p=0.1, inplace=False)\n",
      "      )\n",
      "      (2): TransformerEncoderLayer(\n",
      "        (self_attn): MultiHeadedAttention(\n",
      "          (linear_keys): Linear(in_features=256, out_features=256, bias=True)\n",
      "          (linear_values): Linear(in_features=256, out_features=256, bias=True)\n",
      "          (linear_query): Linear(in_features=256, out_features=256, bias=True)\n",
      "          (softmax): Softmax(dim=-1)\n",
      "          (dropout): Dropout(p=0.1, inplace=False)\n",
      "          (final_linear): Linear(in_features=256, out_features=256, bias=True)\n",
      "        )\n",
      "        (feed_forward): PositionwiseFeedForward(\n",
      "          (w_1): Linear(in_features=256, out_features=2048, bias=True)\n",
      "          (w_2): Linear(in_features=2048, out_features=256, bias=True)\n",
      "          (layer_norm): LayerNorm()\n",
      "          (dropout_1): Dropout(p=0.1, inplace=False)\n",
      "          (relu): ReLU()\n",
      "          (dropout_2): Dropout(p=0.1, inplace=False)\n",
      "        )\n",
      "        (layer_norm): LayerNorm()\n",
      "        (dropout): Dropout(p=0.1, inplace=False)\n",
      "      )\n",
      "      (3): TransformerEncoderLayer(\n",
      "        (self_attn): MultiHeadedAttention(\n",
      "          (linear_keys): Linear(in_features=256, out_features=256, bias=True)\n",
      "          (linear_values): Linear(in_features=256, out_features=256, bias=True)\n",
      "          (linear_query): Linear(in_features=256, out_features=256, bias=True)\n",
      "          (softmax): Softmax(dim=-1)\n",
      "          (dropout): Dropout(p=0.1, inplace=False)\n",
      "          (final_linear): Linear(in_features=256, out_features=256, bias=True)\n",
      "        )\n",
      "        (feed_forward): PositionwiseFeedForward(\n",
      "          (w_1): Linear(in_features=256, out_features=2048, bias=True)\n",
      "          (w_2): Linear(in_features=2048, out_features=256, bias=True)\n",
      "          (layer_norm): LayerNorm()\n",
      "          (dropout_1): Dropout(p=0.1, inplace=False)\n",
      "          (relu): ReLU()\n",
      "          (dropout_2): Dropout(p=0.1, inplace=False)\n",
      "        )\n",
      "        (layer_norm): LayerNorm()\n",
      "        (dropout): Dropout(p=0.1, inplace=False)\n",
      "      )\n",
      "    )\n",
      "    (layer_norm): LayerNorm()\n",
      "  )\n",
      "  (decoder): TransformerDecoder(\n",
      "    (embeddings): Embeddings(\n",
      "      (make_embedding): Sequential(\n",
      "        (emb_luts): Elementwise(\n",
      "          (0): Embedding(87, 256, padding_idx=1)\n",
      "        )\n",
      "        (pe): PositionalEncoding(\n",
      "          (dropout): Dropout(p=0.1, inplace=False)\n",
      "        )\n",
      "      )\n",
      "    )\n",
      "    (transformer_layers): ModuleList(\n",
      "      (0): TransformerDecoderLayer(\n",
      "        (self_attn): MultiHeadedAttention(\n",
      "          (linear_keys): Linear(in_features=256, out_features=256, bias=True)\n",
      "          (linear_values): Linear(in_features=256, out_features=256, bias=True)\n",
      "          (linear_query): Linear(in_features=256, out_features=256, bias=True)\n",
      "          (softmax): Softmax(dim=-1)\n",
      "          (dropout): Dropout(p=0.1, inplace=False)\n",
      "          (final_linear): Linear(in_features=256, out_features=256, bias=True)\n",
      "        )\n",
      "        (context_attn): MultiHeadedAttention(\n",
      "          (linear_keys): Linear(in_features=256, out_features=256, bias=True)\n",
      "          (linear_values): Linear(in_features=256, out_features=256, bias=True)\n",
      "          (linear_query): Linear(in_features=256, out_features=256, bias=True)\n",
      "          (softmax): Softmax(dim=-1)\n",
      "          (dropout): Dropout(p=0.1, inplace=False)\n",
      "          (final_linear): Linear(in_features=256, out_features=256, bias=True)\n",
      "        )\n",
      "        (feed_forward): PositionwiseFeedForward(\n",
      "          (w_1): Linear(in_features=256, out_features=2048, bias=True)\n",
      "          (w_2): Linear(in_features=2048, out_features=256, bias=True)\n",
      "          (layer_norm): LayerNorm()\n",
      "          (dropout_1): Dropout(p=0.1, inplace=False)\n",
      "          (relu): ReLU()\n",
      "          (dropout_2): Dropout(p=0.1, inplace=False)\n",
      "        )\n",
      "        (layer_norm_1): LayerNorm()\n",
      "        (layer_norm_2): LayerNorm()\n",
      "        (drop): Dropout(p=0.1, inplace=False)\n",
      "      )\n",
      "      (1): TransformerDecoderLayer(\n",
      "        (self_attn): MultiHeadedAttention(\n",
      "          (linear_keys): Linear(in_features=256, out_features=256, bias=True)\n",
      "          (linear_values): Linear(in_features=256, out_features=256, bias=True)\n",
      "          (linear_query): Linear(in_features=256, out_features=256, bias=True)\n",
      "          (softmax): Softmax(dim=-1)\n",
      "          (dropout): Dropout(p=0.1, inplace=False)\n",
      "          (final_linear): Linear(in_features=256, out_features=256, bias=True)\n",
      "        )\n",
      "        (context_attn): MultiHeadedAttention(\n",
      "          (linear_keys): Linear(in_features=256, out_features=256, bias=True)\n",
      "          (linear_values): Linear(in_features=256, out_features=256, bias=True)\n",
      "          (linear_query): Linear(in_features=256, out_features=256, bias=True)\n",
      "          (softmax): Softmax(dim=-1)\n",
      "          (dropout): Dropout(p=0.1, inplace=False)\n",
      "          (final_linear): Linear(in_features=256, out_features=256, bias=True)\n",
      "        )\n",
      "        (feed_forward): PositionwiseFeedForward(\n",
      "          (w_1): Linear(in_features=256, out_features=2048, bias=True)\n",
      "          (w_2): Linear(in_features=2048, out_features=256, bias=True)\n",
      "          (layer_norm): LayerNorm()\n",
      "          (dropout_1): Dropout(p=0.1, inplace=False)\n",
      "          (relu): ReLU()\n",
      "          (dropout_2): Dropout(p=0.1, inplace=False)\n",
      "        )\n",
      "        (layer_norm_1): LayerNorm()\n",
      "        (layer_norm_2): LayerNorm()\n",
      "        (drop): Dropout(p=0.1, inplace=False)\n",
      "      )\n",
      "      (2): TransformerDecoderLayer(\n",
      "        (self_attn): MultiHeadedAttention(\n",
      "          (linear_keys): Linear(in_features=256, out_features=256, bias=True)\n",
      "          (linear_values): Linear(in_features=256, out_features=256, bias=True)\n",
      "          (linear_query): Linear(in_features=256, out_features=256, bias=True)\n",
      "          (softmax): Softmax(dim=-1)\n",
      "          (dropout): Dropout(p=0.1, inplace=False)\n",
      "          (final_linear): Linear(in_features=256, out_features=256, bias=True)\n",
      "        )\n",
      "        (context_attn): MultiHeadedAttention(\n",
      "          (linear_keys): Linear(in_features=256, out_features=256, bias=True)\n",
      "          (linear_values): Linear(in_features=256, out_features=256, bias=True)\n",
      "          (linear_query): Linear(in_features=256, out_features=256, bias=True)\n",
      "          (softmax): Softmax(dim=-1)\n",
      "          (dropout): Dropout(p=0.1, inplace=False)\n",
      "          (final_linear): Linear(in_features=256, out_features=256, bias=True)\n",
      "        )\n",
      "        (feed_forward): PositionwiseFeedForward(\n",
      "          (w_1): Linear(in_features=256, out_features=2048, bias=True)\n",
      "          (w_2): Linear(in_features=2048, out_features=256, bias=True)\n",
      "          (layer_norm): LayerNorm()\n",
      "          (dropout_1): Dropout(p=0.1, inplace=False)\n",
      "          (relu): ReLU()\n",
      "          (dropout_2): Dropout(p=0.1, inplace=False)\n",
      "        )\n",
      "        (layer_norm_1): LayerNorm()\n",
      "        (layer_norm_2): LayerNorm()\n",
      "        (drop): Dropout(p=0.1, inplace=False)\n",
      "      )\n",
      "      (3): TransformerDecoderLayer(\n",
      "        (self_attn): MultiHeadedAttention(\n",
      "          (linear_keys): Linear(in_features=256, out_features=256, bias=True)\n",
      "          (linear_values): Linear(in_features=256, out_features=256, bias=True)\n",
      "          (linear_query): Linear(in_features=256, out_features=256, bias=True)\n",
      "          (softmax): Softmax(dim=-1)\n",
      "          (dropout): Dropout(p=0.1, inplace=False)\n",
      "          (final_linear): Linear(in_features=256, out_features=256, bias=True)\n",
      "        )\n",
      "        (context_attn): MultiHeadedAttention(\n",
      "          (linear_keys): Linear(in_features=256, out_features=256, bias=True)\n",
      "          (linear_values): Linear(in_features=256, out_features=256, bias=True)\n",
      "          (linear_query): Linear(in_features=256, out_features=256, bias=True)\n",
      "          (softmax): Softmax(dim=-1)\n",
      "          (dropout): Dropout(p=0.1, inplace=False)\n",
      "          (final_linear): Linear(in_features=256, out_features=256, bias=True)\n",
      "        )\n",
      "        (feed_forward): PositionwiseFeedForward(\n",
      "          (w_1): Linear(in_features=256, out_features=2048, bias=True)\n",
      "          (w_2): Linear(in_features=2048, out_features=256, bias=True)\n",
      "          (layer_norm): LayerNorm()\n",
      "          (dropout_1): Dropout(p=0.1, inplace=False)\n",
      "          (relu): ReLU()\n",
      "          (dropout_2): Dropout(p=0.1, inplace=False)\n",
      "        )\n",
      "        (layer_norm_1): LayerNorm()\n",
      "        (layer_norm_2): LayerNorm()\n",
      "        (drop): Dropout(p=0.1, inplace=False)\n",
      "      )\n",
      "    )\n",
      "    (layer_norm): LayerNorm()\n",
      "  )\n",
      "  (generator): Sequential(\n",
      "    (0): Linear(in_features=256, out_features=87, bias=True)\n",
      "    (1): LogSoftmax()\n",
      "  )\n",
      ")\n",
      "[2023-07-18 16:47:39,324 INFO] encoder: 5283072\n",
      "[2023-07-18 16:47:39,324 INFO] decoder: 6337879\n",
      "[2023-07-18 16:47:39,324 INFO] * number of parameters: 11620951\n",
      "[2023-07-18 16:47:39,342 INFO] Start training...\n",
      "[2023-07-18 16:47:39,488 INFO] Loading train dataset from /home/sbennett/Postdoc/Hackathons/Chem_LLM_Hackathon/Fred_Folder/Hackathon/example_notebooks/MolecularTransformer/data/USPTO50USPTO50.train.0.pt, number of examples: 40008\n",
      "[2023-07-18 16:47:40,505 INFO] Loading train dataset from /home/sbennett/Postdoc/Hackathons/Chem_LLM_Hackathon/Fred_Folder/Hackathon/example_notebooks/MolecularTransformer/data/USPTO50USPTO50.train.0.pt, number of examples: 40008\n"
     ]
    }
   ],
   "source": [
    "# Run more trianing epochs from the original model\n",
    "model.train(\n",
    "    data_path=\"USPTO50USPTO50\",\n",
    "    num_epochs=500001,\n",
    "    gpu_ranks=\"0\",\n",
    ")"
   ]
  },
  {
   "cell_type": "code",
   "execution_count": null,
   "metadata": {},
   "outputs": [
    {
     "ename": "",
     "evalue": "",
     "output_type": "error",
     "traceback": [
      "\u001b[1;31mRunning cells with 'Datathon2023' requires the ipykernel package.\n",
      "\u001b[1;31mRun the following command to install 'ipykernel' into the Python environment. \n",
      "\u001b[1;31mCommand: 'conda install -n Datathon2023 ipykernel --update-deps --force-reinstall'"
     ]
    }
   ],
   "source": [
    "### *Extra: Further Resources\n",
    "-----------------------------\n",
    "\n",
    "For students that find the topic of retrosynthesis and LLMs in chemistry interesting, here are some resources that could you started: \n",
    "\n",
    "1. Deep learning in retrosynthesis planning: datasets, models and tools - https://academic.oup.com/bib/article/23/1/bbab391/6375056 (a review article about ML retrosynthesis)\n",
    "2. A smile is all you need: Predicting limiting activity coefficients from SMILES with natural language processing - https://arxiv.org/abs/2206.07048v1 (how SMILES can be used for QSPR)\n",
    "3. An introductory course to Transformer and how to use them with the HuggingFace python package - https://huggingface.co/learn/nlp-course/chapter1/1"
   ]
  },
  {
   "cell_type": "code",
   "execution_count": null,
   "metadata": {},
   "outputs": [],
   "source": []
  }
 ],
 "metadata": {
  "kernelspec": {
   "display_name": "Python 3",
   "language": "python",
   "name": "python3"
  },
  "language_info": {
   "name": "python",
   "version": "3.8.17"
  }
 },
 "nbformat": 4,
 "nbformat_minor": 4
}
